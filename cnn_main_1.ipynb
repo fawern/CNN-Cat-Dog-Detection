{
 "cells": [
  {
   "cell_type": "code",
   "execution_count": 205,
   "metadata": {},
   "outputs": [],
   "source": [
    "import numpy as np \n",
    "import pandas as pd \n",
    "import matplotlib.pyplot as plt \n",
    "import os\n",
    "\n",
    "from sklearn.model_selection import train_test_split\n",
    "from tensorflow.keras.preprocessing import image\n",
    "\n",
    "from tensorflow.keras.models import Sequential\n",
    "from tensorflow.keras.layers import Conv2D, Dense, MaxPool2D, Flatten"
   ]
  },
  {
   "cell_type": "code",
   "execution_count": 206,
   "metadata": {},
   "outputs": [
    {
     "name": "stdout",
     "output_type": "stream",
     "text": [
      "Found 8005 images belonging to 2 classes.\n",
      "Found 2023 images belonging to 2 classes.\n"
     ]
    }
   ],
   "source": [
    "train_data_generator = image.ImageDataGenerator(\n",
    "    rescale= 1./255,\n",
    "    shear_range=0.2,\n",
    "    zoom_range=0.2,\n",
    "    horizontal_flip=True,\n",
    ")\n",
    "\n",
    "train_img = train_data_generator.flow_from_directory(\n",
    "    './training_set/training_set',\n",
    "    target_size=(64, 64),\n",
    "    batch_size=32,\n",
    "    class_mode='binary'\n",
    ")\n",
    "\n",
    "test_data_generator = image.ImageDataGenerator(\n",
    "    rescale=1./255\n",
    ")\n",
    "\n",
    "test_img = test_data_generator.flow_from_directory(\n",
    "    './test_set/test_set/',\n",
    "    target_size=(64, 64),\n",
    "    batch_size=32,\n",
    "    class_mode='binary'\n",
    ")"
   ]
  },
  {
   "cell_type": "code",
   "execution_count": 207,
   "metadata": {},
   "outputs": [],
   "source": [
    "def cnn_model(optimizer, epochs):\n",
    "    \n",
    "    model = Sequential()\n",
    "\n",
    "    model.add(Conv2D(filters=128, kernel_size=3, strides=(1, 1), activation='relu'))\n",
    "    model.add(MaxPool2D(pool_size=(2, 2), strides=2))\n",
    "\n",
    "    model.add(Conv2D(filters=64, kernel_size=3, strides=(1, 1), activation='relu'))\n",
    "    model.add(MaxPool2D(pool_size=(2, 2), strides=2))\n",
    "\n",
    "    model.add(Conv2D(filters=32, kernel_size=3, strides=(1, 1), activation='relu'))\n",
    "    model.add(Flatten())\n",
    "\n",
    "    model.add(Dense(units=256, activation='relu'))\n",
    "\n",
    "    model.add(Dense(1, activation='sigmoid'))\n",
    "\n",
    "    model.compile(loss='binary_crossentropy', optimizer=optimizer, metrics=['accuracy'])\n",
    "\n",
    "    model.fit(train_img, validation_data=test_img, epochs=epochs)\n",
    "\n",
    "    plt.plot(model.history.history['loss'])\n",
    "    plt.plot(model.history.history['val_loss'])\n",
    "    plt.legend(['loss', 'val_loss'])\n",
    "    \n",
    "    return model"
   ]
  },
  {
   "cell_type": "code",
   "execution_count": 208,
   "metadata": {},
   "outputs": [
    {
     "name": "stdout",
     "output_type": "stream",
     "text": [
      "Epoch 1/24\n",
      "251/251 [==============================] - 112s 439ms/step - loss: 0.6908 - accuracy: 0.5280 - val_loss: 0.6825 - val_accuracy: 0.5517\n",
      "Epoch 2/24\n",
      "251/251 [==============================] - 105s 418ms/step - loss: 0.6793 - accuracy: 0.5655 - val_loss: 0.6712 - val_accuracy: 0.5833\n",
      "Epoch 3/24\n",
      "251/251 [==============================] - 104s 415ms/step - loss: 0.6655 - accuracy: 0.5936 - val_loss: 0.6517 - val_accuracy: 0.6258\n",
      "Epoch 4/24\n",
      "251/251 [==============================] - 107s 428ms/step - loss: 0.6336 - accuracy: 0.6408 - val_loss: 0.6422 - val_accuracy: 0.6377\n",
      "Epoch 5/24\n",
      "251/251 [==============================] - 110s 438ms/step - loss: 0.6083 - accuracy: 0.6680 - val_loss: 0.5965 - val_accuracy: 0.6945\n",
      "Epoch 6/24\n",
      "251/251 [==============================] - 141s 562ms/step - loss: 0.5763 - accuracy: 0.6958 - val_loss: 0.5718 - val_accuracy: 0.7108\n",
      "Epoch 7/24\n",
      "251/251 [==============================] - 148s 590ms/step - loss: 0.5523 - accuracy: 0.7124 - val_loss: 0.5506 - val_accuracy: 0.7286\n",
      "Epoch 8/24\n",
      "251/251 [==============================] - 135s 539ms/step - loss: 0.5398 - accuracy: 0.7235 - val_loss: 0.5356 - val_accuracy: 0.7395\n",
      "Epoch 9/24\n",
      "251/251 [==============================] - 132s 524ms/step - loss: 0.5055 - accuracy: 0.7567 - val_loss: 0.5246 - val_accuracy: 0.7568\n",
      "Epoch 10/24\n",
      "251/251 [==============================] - 124s 496ms/step - loss: 0.4838 - accuracy: 0.7659 - val_loss: 0.4880 - val_accuracy: 0.7751\n",
      "Epoch 11/24\n",
      "251/251 [==============================] - 98s 392ms/step - loss: 0.4622 - accuracy: 0.7824 - val_loss: 0.4901 - val_accuracy: 0.7756\n",
      "Epoch 12/24\n",
      "251/251 [==============================] - 99s 393ms/step - loss: 0.4363 - accuracy: 0.7943 - val_loss: 0.4870 - val_accuracy: 0.7672\n",
      "Epoch 13/24\n",
      "251/251 [==============================] - 133s 531ms/step - loss: 0.4142 - accuracy: 0.8112 - val_loss: 0.4761 - val_accuracy: 0.7899\n",
      "Epoch 14/24\n",
      "251/251 [==============================] - 143s 572ms/step - loss: 0.3941 - accuracy: 0.8249 - val_loss: 0.5329 - val_accuracy: 0.7568\n",
      "Epoch 15/24\n",
      "251/251 [==============================] - 144s 573ms/step - loss: 0.3839 - accuracy: 0.8227 - val_loss: 0.4814 - val_accuracy: 0.7830\n",
      "Epoch 16/24\n",
      "251/251 [==============================] - 132s 527ms/step - loss: 0.3632 - accuracy: 0.8377 - val_loss: 0.4655 - val_accuracy: 0.7924\n",
      "Epoch 17/24\n",
      "251/251 [==============================] - 118s 468ms/step - loss: 0.3317 - accuracy: 0.8512 - val_loss: 0.5065 - val_accuracy: 0.7919\n",
      "Epoch 18/24\n",
      "251/251 [==============================] - 133s 528ms/step - loss: 0.3174 - accuracy: 0.8613 - val_loss: 0.4764 - val_accuracy: 0.7771\n",
      "Epoch 19/24\n",
      "251/251 [==============================] - 126s 501ms/step - loss: 0.3046 - accuracy: 0.8697 - val_loss: 0.5818 - val_accuracy: 0.7612\n",
      "Epoch 20/24\n",
      "251/251 [==============================] - 113s 451ms/step - loss: 0.2793 - accuracy: 0.8793 - val_loss: 0.5069 - val_accuracy: 0.7909\n",
      "Epoch 21/24\n",
      "251/251 [==============================] - 112s 446ms/step - loss: 0.2701 - accuracy: 0.8859 - val_loss: 0.5356 - val_accuracy: 0.7879\n",
      "Epoch 22/24\n",
      "251/251 [==============================] - 109s 436ms/step - loss: 0.2551 - accuracy: 0.8954 - val_loss: 0.5657 - val_accuracy: 0.7657\n",
      "Epoch 23/24\n",
      "251/251 [==============================] - 109s 435ms/step - loss: 0.2331 - accuracy: 0.9067 - val_loss: 0.5253 - val_accuracy: 0.7835\n",
      "Epoch 24/24\n",
      "251/251 [==============================] - 111s 442ms/step - loss: 0.2145 - accuracy: 0.9133 - val_loss: 0.5831 - val_accuracy: 0.7954\n"
     ]
    },
    {
     "data": {
      "image/png": "[encoded data removed]",
      "text/plain": [
       "<Figure size 640x480 with 1 Axes>"
      ]
     },
     "metadata": {},
     "output_type": "display_data"
    }
   ],
   "source": [
    "model_adam = cnn_model(optimizer='adam', epochs=24)"
   ]
  },
  {
   "cell_type": "code",
   "execution_count": 209,
   "metadata": {},
   "outputs": [
    {
     "name": "stdout",
     "output_type": "stream",
     "text": [
      "{'cats': 0, 'dogs': 1}\n"
     ]
    }
   ],
   "source": [
    "cat_path = './test_images/cats/'\n",
    "dog_path = './test_images/dogs/'\n",
    "\n",
    "print(train_img.class_indices)"
   ]
  },
  {
   "cell_type": "code",
   "execution_count": 210,
   "metadata": {},
   "outputs": [
    {
     "name": "stdout",
     "output_type": "stream",
     "text": [
      "1/1 [==============================] - 0s 194ms/step\n",
      "prediction [[1.]]\n",
      "wrong\n",
      "1/1 [==============================] - 0s 41ms/step\n",
      "prediction [[1.]]\n",
      "wrong\n",
      "1/1 [==============================] - 0s 43ms/step\n",
      "prediction [[1.]]\n",
      "wrong\n",
      "1/1 [==============================] - 0s 46ms/step\n",
      "prediction [[0.]]\n",
      "correct\n",
      "1/1 [==============================] - 0s 40ms/step\n",
      "prediction [[1.]]\n",
      "wrong\n",
      "1/1 [==============================] - 0s 40ms/step\n",
      "prediction [[0.]]\n",
      "correct\n"
     ]
    }
   ],
   "source": [
    "for cat in os.listdir(cat_path):\n",
    "\n",
    "    test_cat = image.load_img(cat_path + cat, target_size=(64, 64))\n",
    "    test_cat = image.img_to_array(test_cat)\n",
    "    test_cat = np.expand_dims(test_cat, axis=0)\n",
    "    prediction = model_adam.predict(test_cat)\n",
    "    \n",
    "    print('prediction', prediction)\n",
    "\n",
    "    if prediction[0][0] < 0.5:\n",
    "        print('correct')\n",
    "    else:\n",
    "        print('wrong')"
   ]
  },
  {
   "cell_type": "code",
   "execution_count": 211,
   "metadata": {},
   "outputs": [
    {
     "name": "stdout",
     "output_type": "stream",
     "text": [
      "1/1 [==============================] - 0s 40ms/step\n",
      "prediction [[1.]]\n",
      "correct\n",
      "1/1 [==============================] - 0s 37ms/step\n",
      "prediction [[1.]]\n",
      "correct\n",
      "1/1 [==============================] - 0s 45ms/step\n",
      "prediction [[8.345999e-06]]\n",
      "wrong\n",
      "1/1 [==============================] - 0s 38ms/step\n",
      "prediction [[1.]]\n",
      "correct\n",
      "1/1 [==============================] - 0s 38ms/step\n",
      "prediction [[1.]]\n",
      "correct\n",
      "1/1 [==============================] - 0s 40ms/step\n",
      "prediction [[1.]]\n",
      "correct\n",
      "1/1 [==============================] - 0s 39ms/step\n",
      "prediction [[1.]]\n",
      "correct\n"
     ]
    }
   ],
   "source": [
    "for dog in os.listdir(dog_path):\n",
    "\n",
    "    test_dog = image.load_img(dog_path + dog, target_size=(64, 64))\n",
    "    test_dog = image.img_to_array(test_dog)\n",
    "    test_dog = np.expand_dims(test_dog, axis=0)\n",
    "    prediction = model_adam.predict(test_dog)\n",
    "    \n",
    "    print('prediction', prediction)\n",
    "\n",
    "    if prediction[0][0] >= 0.5 :\n",
    "        print('correct')\n",
    "    else:\n",
    "        print('wrong')"
   ]
  },
  {
   "cell_type": "code",
   "execution_count": 213,
   "metadata": {},
   "outputs": [
    {
     "name": "stdout",
     "output_type": "stream",
     "text": [
      "Epoch 1/21\n",
      "251/251 [==============================] - 124s 489ms/step - loss: 0.6982 - accuracy: 0.5318 - val_loss: 0.6968 - val_accuracy: 0.5205\n",
      "Epoch 2/21\n",
      "251/251 [==============================] - 134s 532ms/step - loss: 0.6546 - accuracy: 0.6226 - val_loss: 0.6024 - val_accuracy: 0.6742\n",
      "Epoch 3/21\n",
      "251/251 [==============================] - 151s 602ms/step - loss: 0.6070 - accuracy: 0.6682 - val_loss: 0.5674 - val_accuracy: 0.7084\n",
      "Epoch 4/21\n",
      "251/251 [==============================] - 124s 492ms/step - loss: 0.5751 - accuracy: 0.6961 - val_loss: 0.5441 - val_accuracy: 0.7365\n",
      "Epoch 5/21\n",
      "251/251 [==============================] - 116s 460ms/step - loss: 0.5437 - accuracy: 0.7239 - val_loss: 0.6228 - val_accuracy: 0.6466\n",
      "Epoch 6/21\n",
      "251/251 [==============================] - 121s 479ms/step - loss: 0.5175 - accuracy: 0.7419 - val_loss: 0.5625 - val_accuracy: 0.7044\n",
      "Epoch 7/21\n",
      "251/251 [==============================] - 113s 450ms/step - loss: 0.4913 - accuracy: 0.7605 - val_loss: 0.4727 - val_accuracy: 0.7771\n",
      "Epoch 8/21\n",
      "251/251 [==============================] - 116s 461ms/step - loss: 0.4772 - accuracy: 0.7740 - val_loss: 0.5467 - val_accuracy: 0.7494\n",
      "Epoch 9/21\n",
      "251/251 [==============================] - 130s 518ms/step - loss: 0.4610 - accuracy: 0.7821 - val_loss: 0.4592 - val_accuracy: 0.7766\n",
      "Epoch 10/21\n",
      "251/251 [==============================] - 135s 537ms/step - loss: 0.4470 - accuracy: 0.7906 - val_loss: 0.4371 - val_accuracy: 0.8018\n",
      "Epoch 11/21\n",
      "251/251 [==============================] - 132s 524ms/step - loss: 0.4241 - accuracy: 0.8060 - val_loss: 0.6605 - val_accuracy: 0.6831\n",
      "Epoch 12/21\n",
      "251/251 [==============================] - 126s 503ms/step - loss: 0.4124 - accuracy: 0.8126 - val_loss: 0.4300 - val_accuracy: 0.8117\n",
      "Epoch 13/21\n",
      "251/251 [==============================] - 126s 501ms/step - loss: 0.3922 - accuracy: 0.8159 - val_loss: 0.4092 - val_accuracy: 0.8122\n",
      "Epoch 14/21\n",
      "251/251 [==============================] - 126s 503ms/step - loss: 0.3775 - accuracy: 0.8325 - val_loss: 0.4376 - val_accuracy: 0.8136\n",
      "Epoch 15/21\n",
      "251/251 [==============================] - 123s 489ms/step - loss: 0.3668 - accuracy: 0.8350 - val_loss: 0.4687 - val_accuracy: 0.7874\n",
      "Epoch 16/21\n",
      "251/251 [==============================] - 125s 496ms/step - loss: 0.3491 - accuracy: 0.8430 - val_loss: 0.3822 - val_accuracy: 0.8359\n",
      "Epoch 17/21\n",
      "251/251 [==============================] - 120s 476ms/step - loss: 0.3376 - accuracy: 0.8535 - val_loss: 0.4026 - val_accuracy: 0.8364\n",
      "Epoch 18/21\n",
      "251/251 [==============================] - 115s 458ms/step - loss: 0.3197 - accuracy: 0.8585 - val_loss: 0.4299 - val_accuracy: 0.8107\n",
      "Epoch 19/21\n",
      "251/251 [==============================] - 113s 451ms/step - loss: 0.3037 - accuracy: 0.8703 - val_loss: 0.4161 - val_accuracy: 0.8211\n",
      "Epoch 20/21\n",
      "251/251 [==============================] - 114s 454ms/step - loss: 0.2935 - accuracy: 0.8798 - val_loss: 0.4705 - val_accuracy: 0.8196\n",
      "Epoch 21/21\n",
      "251/251 [==============================] - 108s 428ms/step - loss: 0.2870 - accuracy: 0.8795 - val_loss: 0.4037 - val_accuracy: 0.8418\n"
     ]
    },
    {
     "data": {
      "image/png": "[encoded data removed]",
      "text/plain": [
       "<Figure size 640x480 with 1 Axes>"
      ]
     },
     "metadata": {},
     "output_type": "display_data"
    }
   ],
   "source": [
    "model_rms = cnn_model(optimizer='rmsprop', epochs=21)"
   ]
  },
  {
   "cell_type": "code",
   "execution_count": 214,
   "metadata": {},
   "outputs": [
    {
     "name": "stdout",
     "output_type": "stream",
     "text": [
      "{'cats': 0, 'dogs': 1}\n"
     ]
    }
   ],
   "source": [
    "cat_path = './test_images/cats/'\n",
    "dog_path = './test_images/dogs/'\n",
    "\n",
    "print(train_img.class_indices)"
   ]
  },
  {
   "cell_type": "code",
   "execution_count": 215,
   "metadata": {},
   "outputs": [
    {
     "name": "stdout",
     "output_type": "stream",
     "text": [
      "1/1 [==============================] - 0s 205ms/step\n",
      "prediction [[1.]]\n",
      "wrong\n",
      "1/1 [==============================] - 0s 40ms/step\n",
      "prediction [[1.]]\n",
      "wrong\n",
      "1/1 [==============================] - 0s 48ms/step\n",
      "prediction [[1.]]\n",
      "wrong\n",
      "1/1 [==============================] - 0s 48ms/step\n",
      "prediction [[0.]]\n",
      "correct\n",
      "1/1 [==============================] - 0s 40ms/step\n",
      "prediction [[1.]]\n",
      "wrong\n",
      "1/1 [==============================] - 0s 42ms/step\n",
      "prediction [[0.]]\n",
      "correct\n"
     ]
    }
   ],
   "source": [
    "for cat in os.listdir(cat_path):\n",
    "\n",
    "    test_cat = image.load_img(cat_path + cat, target_size=(64, 64))\n",
    "    test_cat = image.img_to_array(test_cat)\n",
    "    test_cat = np.expand_dims(test_cat, axis=0)\n",
    "    prediction = model_rms.predict(test_cat)\n",
    "    \n",
    "    print('prediction', prediction)\n",
    "\n",
    "    if prediction[0][0] < 0.5:\n",
    "        print('correct')\n",
    "    else:\n",
    "        print('wrong')"
   ]
  },
  {
   "cell_type": "code",
   "execution_count": 216,
   "metadata": {},
   "outputs": [
    {
     "name": "stdout",
     "output_type": "stream",
     "text": [
      "1/1 [==============================] - 0s 39ms/step\n",
      "prediction [[1.]]\n",
      "correct\n",
      "1/1 [==============================] - 0s 38ms/step\n",
      "prediction [[1.]]\n",
      "correct\n",
      "1/1 [==============================] - 0s 40ms/step\n",
      "prediction [[1.]]\n",
      "correct\n",
      "1/1 [==============================] - 0s 43ms/step\n",
      "prediction [[1.]]\n",
      "correct\n",
      "1/1 [==============================] - 0s 42ms/step\n",
      "prediction [[1.]]\n",
      "correct\n",
      "1/1 [==============================] - 0s 41ms/step\n",
      "prediction [[1.]]\n",
      "correct\n",
      "1/1 [==============================] - 0s 42ms/step\n",
      "prediction [[1.]]\n",
      "correct\n"
     ]
    }
   ],
   "source": [
    "for dog in os.listdir(dog_path):\n",
    "\n",
    "    test_dog = image.load_img(dog_path + dog, target_size=(64, 64))\n",
    "    test_dog = image.img_to_array(test_dog)\n",
    "    test_dog = np.expand_dims(test_dog, axis=0)\n",
    "    prediction = model_rms.predict(test_dog)\n",
    "    \n",
    "    print('prediction', prediction)\n",
    "\n",
    "    if prediction[0][0] > 0.5 :\n",
    "        print('correct')\n",
    "    else:\n",
    "        print('wrong')"
   ]
  }
 ],
 "metadata": {
  "kernelspec": {
   "display_name": "Python 3",
   "language": "python",
   "name": "python3"
  },
  "language_info": {
   "codemirror_mode": {
    "name": "ipython",
    "version": 3
   },
   "file_extension": ".py",
   "mimetype": "text/x-python",
   "name": "python",
   "nbconvert_exporter": "python",
   "pygments_lexer": "ipython3",
   "version": "3.11.3"
  },
  "orig_nbformat": 4
 },
 "nbformat": 4,
 "nbformat_minor": 2
}
